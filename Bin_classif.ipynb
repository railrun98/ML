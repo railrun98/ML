{
  "nbformat": 4,
  "nbformat_minor": 0,
  "metadata": {
    "colab": {
      "name": "Untitled6.ipynb",
      "provenance": [],
      "collapsed_sections": [],
      "authorship_tag": "ABX9TyNWNuqH2udEWqcOXs+kdNk5",
      "include_colab_link": true
    },
    "kernelspec": {
      "name": "python3",
      "display_name": "Python 3"
    }
  },
  "cells": [
    {
      "cell_type": "markdown",
      "metadata": {
        "id": "view-in-github",
        "colab_type": "text"
      },
      "source": [
        "<a href=\"https://colab.research.google.com/github/railrun98/ML/blob/main/Bin_classif.ipynb\" target=\"_parent\"><img src=\"https://colab.research.google.com/assets/colab-badge.svg\" alt=\"Open In Colab\"/></a>"
      ]
    },
    {
      "cell_type": "code",
      "metadata": {
        "id": "1LGUUQvCBje1"
      },
      "source": [
        "import pandas as pd\r\n",
        "import numpy as np"
      ],
      "execution_count": 47,
      "outputs": []
    },
    {
      "cell_type": "code",
      "metadata": {
        "id": "8LWvv66tBmhu"
      },
      "source": [
        "Data = pd.read_csv('gym_data.csv')"
      ],
      "execution_count": 48,
      "outputs": []
    },
    {
      "cell_type": "code",
      "metadata": {
        "colab": {
          "base_uri": "https://localhost:8080/",
          "height": 235
        },
        "id": "uvGnMDZ2B38P",
        "outputId": "c7182aa8-5992-4223-b81c-1df4b1476ac4"
      },
      "source": [
        "Data.head()"
      ],
      "execution_count": 50,
      "outputs": [
        {
          "output_type": "execute_result",
          "data": {
            "text/html": [
              "<div>\n",
              "<style scoped>\n",
              "    .dataframe tbody tr th:only-of-type {\n",
              "        vertical-align: middle;\n",
              "    }\n",
              "\n",
              "    .dataframe tbody tr th {\n",
              "        vertical-align: top;\n",
              "    }\n",
              "\n",
              "    .dataframe thead th {\n",
              "        text-align: right;\n",
              "    }\n",
              "</style>\n",
              "<table border=\"1\" class=\"dataframe\">\n",
              "  <thead>\n",
              "    <tr style=\"text-align: right;\">\n",
              "      <th></th>\n",
              "      <th>Row</th>\n",
              "      <th>Registration</th>\n",
              "      <th>Zipcode</th>\n",
              "      <th>Age</th>\n",
              "      <th>Partner_company</th>\n",
              "      <th>Friend_promo</th>\n",
              "      <th>Contract_period</th>\n",
              "      <th>Lifetime</th>\n",
              "      <th>Class_registration_weekly</th>\n",
              "      <th>Avg_additional_charges_total</th>\n",
              "      <th>Cancellation_freq</th>\n",
              "      <th>Exited</th>\n",
              "      <th>Unnamed: 12</th>\n",
              "    </tr>\n",
              "  </thead>\n",
              "  <tbody>\n",
              "    <tr>\n",
              "      <th>0</th>\n",
              "      <td>10001</td>\n",
              "      <td>2000159</td>\n",
              "      <td>57328</td>\n",
              "      <td>37</td>\n",
              "      <td>0</td>\n",
              "      <td>1</td>\n",
              "      <td>6</td>\n",
              "      <td>10</td>\n",
              "      <td>1.06</td>\n",
              "      <td>134.200000</td>\n",
              "      <td>0.01</td>\n",
              "      <td>0</td>\n",
              "      <td>NaN</td>\n",
              "    </tr>\n",
              "    <tr>\n",
              "      <th>1</th>\n",
              "      <td>10002</td>\n",
              "      <td>2000235</td>\n",
              "      <td>29941</td>\n",
              "      <td>32</td>\n",
              "      <td>0</td>\n",
              "      <td>1</td>\n",
              "      <td>12</td>\n",
              "      <td>7</td>\n",
              "      <td>1.54</td>\n",
              "      <td>177.600000</td>\n",
              "      <td>0.07</td>\n",
              "      <td>0</td>\n",
              "      <td>NaN</td>\n",
              "    </tr>\n",
              "    <tr>\n",
              "      <th>2</th>\n",
              "      <td>10003</td>\n",
              "      <td>2000297</td>\n",
              "      <td>57328</td>\n",
              "      <td>29</td>\n",
              "      <td>0</td>\n",
              "      <td>1</td>\n",
              "      <td>6</td>\n",
              "      <td>5</td>\n",
              "      <td>2.15</td>\n",
              "      <td>205.000000</td>\n",
              "      <td>0.28</td>\n",
              "      <td>0</td>\n",
              "      <td>NaN</td>\n",
              "    </tr>\n",
              "    <tr>\n",
              "      <th>3</th>\n",
              "      <td>10004</td>\n",
              "      <td>2000435</td>\n",
              "      <td>29941</td>\n",
              "      <td>76</td>\n",
              "      <td>1</td>\n",
              "      <td>0</td>\n",
              "      <td>6</td>\n",
              "      <td>5</td>\n",
              "      <td>3.10</td>\n",
              "      <td>220.666667</td>\n",
              "      <td>0.39</td>\n",
              "      <td>0</td>\n",
              "      <td>NaN</td>\n",
              "    </tr>\n",
              "    <tr>\n",
              "      <th>4</th>\n",
              "      <td>10005</td>\n",
              "      <td>2000774</td>\n",
              "      <td>29941</td>\n",
              "      <td>24</td>\n",
              "      <td>1</td>\n",
              "      <td>0</td>\n",
              "      <td>1</td>\n",
              "      <td>3</td>\n",
              "      <td>1.00</td>\n",
              "      <td>142.040000</td>\n",
              "      <td>0.12</td>\n",
              "      <td>1</td>\n",
              "      <td>NaN</td>\n",
              "    </tr>\n",
              "  </tbody>\n",
              "</table>\n",
              "</div>"
            ],
            "text/plain": [
              "     Row  Registration  Zipcode  ...  Cancellation_freq  Exited  Unnamed: 12\n",
              "0  10001       2000159    57328  ...               0.01       0          NaN\n",
              "1  10002       2000235    29941  ...               0.07       0          NaN\n",
              "2  10003       2000297    57328  ...               0.28       0          NaN\n",
              "3  10004       2000435    29941  ...               0.39       0          NaN\n",
              "4  10005       2000774    29941  ...               0.12       1          NaN\n",
              "\n",
              "[5 rows x 13 columns]"
            ]
          },
          "metadata": {
            "tags": []
          },
          "execution_count": 50
        }
      ]
    },
    {
      "cell_type": "code",
      "metadata": {
        "id": "HlGxV1ubCBex"
      },
      "source": [
        "X = Data[['Registration',\t'Zipcode',\t'Age',\t'Partner_company',\t'Friend_promo',\t'Contract_period',\t'Lifetime',\t'Class_registration_weekly'\t,'Avg_additional_charges_total'\t,'Cancellation_freq']]\r\n",
        "Y = Data['Exited']"
      ],
      "execution_count": 51,
      "outputs": []
    },
    {
      "cell_type": "code",
      "metadata": {
        "colab": {
          "base_uri": "https://localhost:8080/"
        },
        "id": "BelEGv5CC-ou",
        "outputId": "6a638752-5772-4436-cc17-319514c086d6"
      },
      "source": [
        "X.isnull().sum()"
      ],
      "execution_count": 52,
      "outputs": [
        {
          "output_type": "execute_result",
          "data": {
            "text/plain": [
              "Registration                    0\n",
              "Zipcode                         0\n",
              "Age                             0\n",
              "Partner_company                 0\n",
              "Friend_promo                    0\n",
              "Contract_period                 0\n",
              "Lifetime                        0\n",
              "Class_registration_weekly       0\n",
              "Avg_additional_charges_total    0\n",
              "Cancellation_freq               0\n",
              "dtype: int64"
            ]
          },
          "metadata": {
            "tags": []
          },
          "execution_count": 52
        }
      ]
    },
    {
      "cell_type": "code",
      "metadata": {
        "colab": {
          "base_uri": "https://localhost:8080/"
        },
        "id": "s_HGpy-SDKw3",
        "outputId": "646664f8-7e22-4263-e1f5-b04aa6b213e6"
      },
      "source": [
        "X.info()"
      ],
      "execution_count": 53,
      "outputs": [
        {
          "output_type": "stream",
          "text": [
            "<class 'pandas.core.frame.DataFrame'>\n",
            "RangeIndex: 8100 entries, 0 to 8099\n",
            "Data columns (total 10 columns):\n",
            " #   Column                        Non-Null Count  Dtype  \n",
            "---  ------                        --------------  -----  \n",
            " 0   Registration                  8100 non-null   int64  \n",
            " 1   Zipcode                       8100 non-null   int64  \n",
            " 2   Age                           8100 non-null   int64  \n",
            " 3   Partner_company               8100 non-null   int64  \n",
            " 4   Friend_promo                  8100 non-null   int64  \n",
            " 5   Contract_period               8100 non-null   int64  \n",
            " 6   Lifetime                      8100 non-null   int64  \n",
            " 7   Class_registration_weekly     8100 non-null   float64\n",
            " 8   Avg_additional_charges_total  8100 non-null   float64\n",
            " 9   Cancellation_freq             8100 non-null   float64\n",
            "dtypes: float64(3), int64(7)\n",
            "memory usage: 632.9 KB\n"
          ],
          "name": "stdout"
        }
      ]
    },
    {
      "cell_type": "code",
      "metadata": {
        "colab": {
          "base_uri": "https://localhost:8080/"
        },
        "id": "rqKuQIaVEjH3",
        "outputId": "b78df19a-9f9a-4eda-cf18-2fb544dfc2cd"
      },
      "source": [
        "Y"
      ],
      "execution_count": 54,
      "outputs": [
        {
          "output_type": "execute_result",
          "data": {
            "text/plain": [
              "0       0\n",
              "1       0\n",
              "2       0\n",
              "3       0\n",
              "4       1\n",
              "       ..\n",
              "8095    0\n",
              "8096    0\n",
              "8097    0\n",
              "8098    0\n",
              "8099    0\n",
              "Name: Exited, Length: 8100, dtype: int64"
            ]
          },
          "metadata": {
            "tags": []
          },
          "execution_count": 54
        }
      ]
    },
    {
      "cell_type": "code",
      "metadata": {
        "colab": {
          "base_uri": "https://localhost:8080/"
        },
        "id": "133-dP8oDPsl",
        "outputId": "17f2d63e-9951-43e0-c413-9cb34ba56a51"
      },
      "source": [
        "Y.unique()"
      ],
      "execution_count": 55,
      "outputs": [
        {
          "output_type": "execute_result",
          "data": {
            "text/plain": [
              "array([0, 1])"
            ]
          },
          "metadata": {
            "tags": []
          },
          "execution_count": 55
        }
      ]
    },
    {
      "cell_type": "code",
      "metadata": {
        "id": "vEvMI8XoDd_P"
      },
      "source": [
        "from sklearn.preprocessing import StandardScaler\r\n",
        "\r\n",
        "scaler = StandardScaler()\r\n",
        "scaler.fit(X)\r\n",
        "\r\n",
        "X = scaler.transform(X)\r\n"
      ],
      "execution_count": 56,
      "outputs": []
    },
    {
      "cell_type": "code",
      "metadata": {
        "id": "9QUvGcwuE-N9"
      },
      "source": [
        "from sklearn.linear_model import LogisticRegression"
      ],
      "execution_count": 57,
      "outputs": []
    },
    {
      "cell_type": "code",
      "metadata": {
        "id": "HjmV8b-0FFEP"
      },
      "source": [
        "X_test=pd.read_csv('gym_test.csv')"
      ],
      "execution_count": 59,
      "outputs": []
    },
    {
      "cell_type": "code",
      "metadata": {
        "colab": {
          "base_uri": "https://localhost:8080/",
          "height": 427
        },
        "id": "vaeu1feNHzY7",
        "outputId": "6f45c1de-51f8-4c94-fd0a-f1f7b72ed759"
      },
      "source": [
        "X_test\r\n"
      ],
      "execution_count": 70,
      "outputs": [
        {
          "output_type": "execute_result",
          "data": {
            "text/html": [
              "<div>\n",
              "<style scoped>\n",
              "    .dataframe tbody tr th:only-of-type {\n",
              "        vertical-align: middle;\n",
              "    }\n",
              "\n",
              "    .dataframe tbody tr th {\n",
              "        vertical-align: top;\n",
              "    }\n",
              "\n",
              "    .dataframe thead th {\n",
              "        text-align: right;\n",
              "    }\n",
              "</style>\n",
              "<table border=\"1\" class=\"dataframe\">\n",
              "  <thead>\n",
              "    <tr style=\"text-align: right;\">\n",
              "      <th></th>\n",
              "      <th>Registration</th>\n",
              "      <th>Zipcode</th>\n",
              "      <th>Age</th>\n",
              "      <th>Partner_company</th>\n",
              "      <th>Friend_promo</th>\n",
              "      <th>Contract_period</th>\n",
              "      <th>Lifetime</th>\n",
              "      <th>Class_registration_weekly</th>\n",
              "      <th>Avg_additional_charges_total</th>\n",
              "      <th>Cancellation_freq</th>\n",
              "    </tr>\n",
              "  </thead>\n",
              "  <tbody>\n",
              "    <tr>\n",
              "      <th>0</th>\n",
              "      <td>2000159</td>\n",
              "      <td>57328</td>\n",
              "      <td>37</td>\n",
              "      <td>0</td>\n",
              "      <td>1</td>\n",
              "      <td>6</td>\n",
              "      <td>10</td>\n",
              "      <td>1.06</td>\n",
              "      <td>134.200000</td>\n",
              "      <td>0.01</td>\n",
              "    </tr>\n",
              "    <tr>\n",
              "      <th>1</th>\n",
              "      <td>2000235</td>\n",
              "      <td>29941</td>\n",
              "      <td>32</td>\n",
              "      <td>0</td>\n",
              "      <td>1</td>\n",
              "      <td>12</td>\n",
              "      <td>7</td>\n",
              "      <td>1.54</td>\n",
              "      <td>177.600000</td>\n",
              "      <td>0.07</td>\n",
              "    </tr>\n",
              "    <tr>\n",
              "      <th>2</th>\n",
              "      <td>2000297</td>\n",
              "      <td>57328</td>\n",
              "      <td>29</td>\n",
              "      <td>0</td>\n",
              "      <td>1</td>\n",
              "      <td>6</td>\n",
              "      <td>5</td>\n",
              "      <td>2.15</td>\n",
              "      <td>205.000000</td>\n",
              "      <td>0.28</td>\n",
              "    </tr>\n",
              "    <tr>\n",
              "      <th>3</th>\n",
              "      <td>2000435</td>\n",
              "      <td>29941</td>\n",
              "      <td>76</td>\n",
              "      <td>1</td>\n",
              "      <td>0</td>\n",
              "      <td>6</td>\n",
              "      <td>5</td>\n",
              "      <td>3.10</td>\n",
              "      <td>220.666667</td>\n",
              "      <td>0.39</td>\n",
              "    </tr>\n",
              "    <tr>\n",
              "      <th>4</th>\n",
              "      <td>2000774</td>\n",
              "      <td>29941</td>\n",
              "      <td>24</td>\n",
              "      <td>1</td>\n",
              "      <td>0</td>\n",
              "      <td>1</td>\n",
              "      <td>3</td>\n",
              "      <td>1.00</td>\n",
              "      <td>142.040000</td>\n",
              "      <td>0.12</td>\n",
              "    </tr>\n",
              "    <tr>\n",
              "      <th>...</th>\n",
              "      <td>...</td>\n",
              "      <td>...</td>\n",
              "      <td>...</td>\n",
              "      <td>...</td>\n",
              "      <td>...</td>\n",
              "      <td>...</td>\n",
              "      <td>...</td>\n",
              "      <td>...</td>\n",
              "      <td>...</td>\n",
              "      <td>...</td>\n",
              "    </tr>\n",
              "    <tr>\n",
              "      <th>8095</th>\n",
              "      <td>2999305</td>\n",
              "      <td>57328</td>\n",
              "      <td>46</td>\n",
              "      <td>1</td>\n",
              "      <td>0</td>\n",
              "      <td>1</td>\n",
              "      <td>6</td>\n",
              "      <td>2.05</td>\n",
              "      <td>188.460000</td>\n",
              "      <td>0.07</td>\n",
              "    </tr>\n",
              "    <tr>\n",
              "      <th>8096</th>\n",
              "      <td>2999322</td>\n",
              "      <td>29941</td>\n",
              "      <td>22</td>\n",
              "      <td>0</td>\n",
              "      <td>1</td>\n",
              "      <td>12</td>\n",
              "      <td>2</td>\n",
              "      <td>1.59</td>\n",
              "      <td>226.333333</td>\n",
              "      <td>0.12</td>\n",
              "    </tr>\n",
              "    <tr>\n",
              "      <th>8097</th>\n",
              "      <td>2999324</td>\n",
              "      <td>29941</td>\n",
              "      <td>22</td>\n",
              "      <td>0</td>\n",
              "      <td>1</td>\n",
              "      <td>1</td>\n",
              "      <td>8</td>\n",
              "      <td>2.53</td>\n",
              "      <td>211.333333</td>\n",
              "      <td>0.00</td>\n",
              "    </tr>\n",
              "    <tr>\n",
              "      <th>8098</th>\n",
              "      <td>2999660</td>\n",
              "      <td>29941</td>\n",
              "      <td>33</td>\n",
              "      <td>1</td>\n",
              "      <td>0</td>\n",
              "      <td>12</td>\n",
              "      <td>3</td>\n",
              "      <td>2.56</td>\n",
              "      <td>113.730000</td>\n",
              "      <td>0.00</td>\n",
              "    </tr>\n",
              "    <tr>\n",
              "      <th>8099</th>\n",
              "      <td>2999894</td>\n",
              "      <td>29941</td>\n",
              "      <td>29</td>\n",
              "      <td>1</td>\n",
              "      <td>1</td>\n",
              "      <td>12</td>\n",
              "      <td>8</td>\n",
              "      <td>0.80</td>\n",
              "      <td>219.666667</td>\n",
              "      <td>0.02</td>\n",
              "    </tr>\n",
              "  </tbody>\n",
              "</table>\n",
              "<p>8100 rows × 10 columns</p>\n",
              "</div>"
            ],
            "text/plain": [
              "      Registration  Zipcode  ...  Avg_additional_charges_total  Cancellation_freq\n",
              "0          2000159    57328  ...                    134.200000               0.01\n",
              "1          2000235    29941  ...                    177.600000               0.07\n",
              "2          2000297    57328  ...                    205.000000               0.28\n",
              "3          2000435    29941  ...                    220.666667               0.39\n",
              "4          2000774    29941  ...                    142.040000               0.12\n",
              "...            ...      ...  ...                           ...                ...\n",
              "8095       2999305    57328  ...                    188.460000               0.07\n",
              "8096       2999322    29941  ...                    226.333333               0.12\n",
              "8097       2999324    29941  ...                    211.333333               0.00\n",
              "8098       2999660    29941  ...                    113.730000               0.00\n",
              "8099       2999894    29941  ...                    219.666667               0.02\n",
              "\n",
              "[8100 rows x 10 columns]"
            ]
          },
          "metadata": {
            "tags": []
          },
          "execution_count": 70
        }
      ]
    },
    {
      "cell_type": "code",
      "metadata": {
        "id": "kB5Pf-PfG-m8"
      },
      "source": [
        "X_test = Data[['Registration',\t'Zipcode',\t'Age',\t'Partner_company',\t'Friend_promo',\t'Contract_period',\t'Lifetime',\t'Class_registration_weekly'\t,'Avg_additional_charges_total'\t,'Cancellation_freq']]"
      ],
      "execution_count": 60,
      "outputs": []
    },
    {
      "cell_type": "code",
      "metadata": {
        "colab": {
          "base_uri": "https://localhost:8080/"
        },
        "id": "QZJ8CdPSFMny",
        "outputId": "67a51f59-86e3-4ac5-af54-fc44d1d1f494"
      },
      "source": [
        "clf = LogisticRegression()\r\n",
        "clf.fit(X, Y)"
      ],
      "execution_count": 61,
      "outputs": [
        {
          "output_type": "execute_result",
          "data": {
            "text/plain": [
              "LogisticRegression(C=1.0, class_weight=None, dual=False, fit_intercept=True,\n",
              "                   intercept_scaling=1, l1_ratio=None, max_iter=100,\n",
              "                   multi_class='auto', n_jobs=None, penalty='l2',\n",
              "                   random_state=None, solver='lbfgs', tol=0.0001, verbose=0,\n",
              "                   warm_start=False)"
            ]
          },
          "metadata": {
            "tags": []
          },
          "execution_count": 61
        }
      ]
    },
    {
      "cell_type": "code",
      "metadata": {
        "id": "J_0_LPhzFSZz"
      },
      "source": [
        "predict_proba = clf.predict_proba(X_test)[:, 1]"
      ],
      "execution_count": 86,
      "outputs": []
    },
    {
      "cell_type": "code",
      "metadata": {
        "id": "91ViERsnFeXY"
      },
      "source": [
        "f= list(map(int, predict_proba))"
      ],
      "execution_count": 87,
      "outputs": []
    },
    {
      "cell_type": "code",
      "metadata": {
        "id": "77wnZzdUHtsE"
      },
      "source": [
        "f=pd.DataFrame(f)"
      ],
      "execution_count": 88,
      "outputs": []
    },
    {
      "cell_type": "code",
      "metadata": {
        "colab": {
          "base_uri": "https://localhost:8080/",
          "height": 407
        },
        "id": "oQOdAlp2JmD0",
        "outputId": "12777b77-243a-4fe4-b2f9-247c5c4369fa"
      },
      "source": [
        "f"
      ],
      "execution_count": 89,
      "outputs": [
        {
          "output_type": "execute_result",
          "data": {
            "text/html": [
              "<div>\n",
              "<style scoped>\n",
              "    .dataframe tbody tr th:only-of-type {\n",
              "        vertical-align: middle;\n",
              "    }\n",
              "\n",
              "    .dataframe tbody tr th {\n",
              "        vertical-align: top;\n",
              "    }\n",
              "\n",
              "    .dataframe thead th {\n",
              "        text-align: right;\n",
              "    }\n",
              "</style>\n",
              "<table border=\"1\" class=\"dataframe\">\n",
              "  <thead>\n",
              "    <tr style=\"text-align: right;\">\n",
              "      <th></th>\n",
              "      <th>0</th>\n",
              "    </tr>\n",
              "  </thead>\n",
              "  <tbody>\n",
              "    <tr>\n",
              "      <th>0</th>\n",
              "      <td>0</td>\n",
              "    </tr>\n",
              "    <tr>\n",
              "      <th>1</th>\n",
              "      <td>1</td>\n",
              "    </tr>\n",
              "    <tr>\n",
              "      <th>2</th>\n",
              "      <td>0</td>\n",
              "    </tr>\n",
              "    <tr>\n",
              "      <th>3</th>\n",
              "      <td>1</td>\n",
              "    </tr>\n",
              "    <tr>\n",
              "      <th>4</th>\n",
              "      <td>1</td>\n",
              "    </tr>\n",
              "    <tr>\n",
              "      <th>...</th>\n",
              "      <td>...</td>\n",
              "    </tr>\n",
              "    <tr>\n",
              "      <th>8095</th>\n",
              "      <td>1</td>\n",
              "    </tr>\n",
              "    <tr>\n",
              "      <th>8096</th>\n",
              "      <td>1</td>\n",
              "    </tr>\n",
              "    <tr>\n",
              "      <th>8097</th>\n",
              "      <td>1</td>\n",
              "    </tr>\n",
              "    <tr>\n",
              "      <th>8098</th>\n",
              "      <td>1</td>\n",
              "    </tr>\n",
              "    <tr>\n",
              "      <th>8099</th>\n",
              "      <td>1</td>\n",
              "    </tr>\n",
              "  </tbody>\n",
              "</table>\n",
              "<p>8100 rows × 1 columns</p>\n",
              "</div>"
            ],
            "text/plain": [
              "      0\n",
              "0     0\n",
              "1     1\n",
              "2     0\n",
              "3     1\n",
              "4     1\n",
              "...  ..\n",
              "8095  1\n",
              "8096  1\n",
              "8097  1\n",
              "8098  1\n",
              "8099  1\n",
              "\n",
              "[8100 rows x 1 columns]"
            ]
          },
          "metadata": {
            "tags": []
          },
          "execution_count": 89
        }
      ]
    },
    {
      "cell_type": "code",
      "metadata": {
        "id": "RnPz25OrJ9iJ"
      },
      "source": [
        "X_test = Data[['Registration',\t'Zipcode',\t'Age',\t'Partner_company',\t'Friend_promo',\t'Contract_period',\t'Lifetime',\t'Class_registration_weekly'\t,'Avg_additional_charges_total'\t,'Cancellation_freq']]"
      ],
      "execution_count": 90,
      "outputs": []
    },
    {
      "cell_type": "code",
      "metadata": {
        "colab": {
          "base_uri": "https://localhost:8080/",
          "height": 427
        },
        "id": "Zrv9cgkwL7a7",
        "outputId": "891788c5-576f-44d9-f19a-0185658ac1bf"
      },
      "source": [
        "X_test"
      ],
      "execution_count": 94,
      "outputs": [
        {
          "output_type": "execute_result",
          "data": {
            "text/html": [
              "<div>\n",
              "<style scoped>\n",
              "    .dataframe tbody tr th:only-of-type {\n",
              "        vertical-align: middle;\n",
              "    }\n",
              "\n",
              "    .dataframe tbody tr th {\n",
              "        vertical-align: top;\n",
              "    }\n",
              "\n",
              "    .dataframe thead th {\n",
              "        text-align: right;\n",
              "    }\n",
              "</style>\n",
              "<table border=\"1\" class=\"dataframe\">\n",
              "  <thead>\n",
              "    <tr style=\"text-align: right;\">\n",
              "      <th></th>\n",
              "      <th>Registration</th>\n",
              "      <th>Zipcode</th>\n",
              "      <th>Age</th>\n",
              "      <th>Partner_company</th>\n",
              "      <th>Friend_promo</th>\n",
              "      <th>Contract_period</th>\n",
              "      <th>Lifetime</th>\n",
              "      <th>Class_registration_weekly</th>\n",
              "      <th>Avg_additional_charges_total</th>\n",
              "      <th>Cancellation_freq</th>\n",
              "    </tr>\n",
              "  </thead>\n",
              "  <tbody>\n",
              "    <tr>\n",
              "      <th>0</th>\n",
              "      <td>2000159</td>\n",
              "      <td>57328</td>\n",
              "      <td>37</td>\n",
              "      <td>0</td>\n",
              "      <td>1</td>\n",
              "      <td>6</td>\n",
              "      <td>10</td>\n",
              "      <td>1.06</td>\n",
              "      <td>134.200000</td>\n",
              "      <td>0.01</td>\n",
              "    </tr>\n",
              "    <tr>\n",
              "      <th>1</th>\n",
              "      <td>2000235</td>\n",
              "      <td>29941</td>\n",
              "      <td>32</td>\n",
              "      <td>0</td>\n",
              "      <td>1</td>\n",
              "      <td>12</td>\n",
              "      <td>7</td>\n",
              "      <td>1.54</td>\n",
              "      <td>177.600000</td>\n",
              "      <td>0.07</td>\n",
              "    </tr>\n",
              "    <tr>\n",
              "      <th>2</th>\n",
              "      <td>2000297</td>\n",
              "      <td>57328</td>\n",
              "      <td>29</td>\n",
              "      <td>0</td>\n",
              "      <td>1</td>\n",
              "      <td>6</td>\n",
              "      <td>5</td>\n",
              "      <td>2.15</td>\n",
              "      <td>205.000000</td>\n",
              "      <td>0.28</td>\n",
              "    </tr>\n",
              "    <tr>\n",
              "      <th>3</th>\n",
              "      <td>2000435</td>\n",
              "      <td>29941</td>\n",
              "      <td>76</td>\n",
              "      <td>1</td>\n",
              "      <td>0</td>\n",
              "      <td>6</td>\n",
              "      <td>5</td>\n",
              "      <td>3.10</td>\n",
              "      <td>220.666667</td>\n",
              "      <td>0.39</td>\n",
              "    </tr>\n",
              "    <tr>\n",
              "      <th>4</th>\n",
              "      <td>2000774</td>\n",
              "      <td>29941</td>\n",
              "      <td>24</td>\n",
              "      <td>1</td>\n",
              "      <td>0</td>\n",
              "      <td>1</td>\n",
              "      <td>3</td>\n",
              "      <td>1.00</td>\n",
              "      <td>142.040000</td>\n",
              "      <td>0.12</td>\n",
              "    </tr>\n",
              "    <tr>\n",
              "      <th>...</th>\n",
              "      <td>...</td>\n",
              "      <td>...</td>\n",
              "      <td>...</td>\n",
              "      <td>...</td>\n",
              "      <td>...</td>\n",
              "      <td>...</td>\n",
              "      <td>...</td>\n",
              "      <td>...</td>\n",
              "      <td>...</td>\n",
              "      <td>...</td>\n",
              "    </tr>\n",
              "    <tr>\n",
              "      <th>8095</th>\n",
              "      <td>2999305</td>\n",
              "      <td>57328</td>\n",
              "      <td>46</td>\n",
              "      <td>1</td>\n",
              "      <td>0</td>\n",
              "      <td>1</td>\n",
              "      <td>6</td>\n",
              "      <td>2.05</td>\n",
              "      <td>188.460000</td>\n",
              "      <td>0.07</td>\n",
              "    </tr>\n",
              "    <tr>\n",
              "      <th>8096</th>\n",
              "      <td>2999322</td>\n",
              "      <td>29941</td>\n",
              "      <td>22</td>\n",
              "      <td>0</td>\n",
              "      <td>1</td>\n",
              "      <td>12</td>\n",
              "      <td>2</td>\n",
              "      <td>1.59</td>\n",
              "      <td>226.333333</td>\n",
              "      <td>0.12</td>\n",
              "    </tr>\n",
              "    <tr>\n",
              "      <th>8097</th>\n",
              "      <td>2999324</td>\n",
              "      <td>29941</td>\n",
              "      <td>22</td>\n",
              "      <td>0</td>\n",
              "      <td>1</td>\n",
              "      <td>1</td>\n",
              "      <td>8</td>\n",
              "      <td>2.53</td>\n",
              "      <td>211.333333</td>\n",
              "      <td>0.00</td>\n",
              "    </tr>\n",
              "    <tr>\n",
              "      <th>8098</th>\n",
              "      <td>2999660</td>\n",
              "      <td>29941</td>\n",
              "      <td>33</td>\n",
              "      <td>1</td>\n",
              "      <td>0</td>\n",
              "      <td>12</td>\n",
              "      <td>3</td>\n",
              "      <td>2.56</td>\n",
              "      <td>113.730000</td>\n",
              "      <td>0.00</td>\n",
              "    </tr>\n",
              "    <tr>\n",
              "      <th>8099</th>\n",
              "      <td>2999894</td>\n",
              "      <td>29941</td>\n",
              "      <td>29</td>\n",
              "      <td>1</td>\n",
              "      <td>1</td>\n",
              "      <td>12</td>\n",
              "      <td>8</td>\n",
              "      <td>0.80</td>\n",
              "      <td>219.666667</td>\n",
              "      <td>0.02</td>\n",
              "    </tr>\n",
              "  </tbody>\n",
              "</table>\n",
              "<p>8100 rows × 10 columns</p>\n",
              "</div>"
            ],
            "text/plain": [
              "      Registration  Zipcode  ...  Avg_additional_charges_total  Cancellation_freq\n",
              "0          2000159    57328  ...                    134.200000               0.01\n",
              "1          2000235    29941  ...                    177.600000               0.07\n",
              "2          2000297    57328  ...                    205.000000               0.28\n",
              "3          2000435    29941  ...                    220.666667               0.39\n",
              "4          2000774    29941  ...                    142.040000               0.12\n",
              "...            ...      ...  ...                           ...                ...\n",
              "8095       2999305    57328  ...                    188.460000               0.07\n",
              "8096       2999322    29941  ...                    226.333333               0.12\n",
              "8097       2999324    29941  ...                    211.333333               0.00\n",
              "8098       2999660    29941  ...                    113.730000               0.00\n",
              "8099       2999894    29941  ...                    219.666667               0.02\n",
              "\n",
              "[8100 rows x 10 columns]"
            ]
          },
          "metadata": {
            "tags": []
          },
          "execution_count": 94
        }
      ]
    },
    {
      "cell_type": "code",
      "metadata": {
        "id": "9F0ncy5MQIAP"
      },
      "source": [
        "df=pd.concat([X_test,f],axis=1)"
      ],
      "execution_count": 115,
      "outputs": []
    },
    {
      "cell_type": "code",
      "metadata": {
        "colab": {
          "base_uri": "https://localhost:8080/",
          "height": 427
        },
        "id": "RmnMurP9QvF1",
        "outputId": "dc5447eb-6c31-430d-bef9-0b3feaf7e488"
      },
      "source": [
        "df"
      ],
      "execution_count": 116,
      "outputs": [
        {
          "output_type": "execute_result",
          "data": {
            "text/html": [
              "<div>\n",
              "<style scoped>\n",
              "    .dataframe tbody tr th:only-of-type {\n",
              "        vertical-align: middle;\n",
              "    }\n",
              "\n",
              "    .dataframe tbody tr th {\n",
              "        vertical-align: top;\n",
              "    }\n",
              "\n",
              "    .dataframe thead th {\n",
              "        text-align: right;\n",
              "    }\n",
              "</style>\n",
              "<table border=\"1\" class=\"dataframe\">\n",
              "  <thead>\n",
              "    <tr style=\"text-align: right;\">\n",
              "      <th></th>\n",
              "      <th>Registration</th>\n",
              "      <th>Zipcode</th>\n",
              "      <th>Age</th>\n",
              "      <th>Partner_company</th>\n",
              "      <th>Friend_promo</th>\n",
              "      <th>Contract_period</th>\n",
              "      <th>Lifetime</th>\n",
              "      <th>Class_registration_weekly</th>\n",
              "      <th>Avg_additional_charges_total</th>\n",
              "      <th>Cancellation_freq</th>\n",
              "      <th>Exited</th>\n",
              "    </tr>\n",
              "  </thead>\n",
              "  <tbody>\n",
              "    <tr>\n",
              "      <th>0</th>\n",
              "      <td>2000159</td>\n",
              "      <td>57328</td>\n",
              "      <td>37</td>\n",
              "      <td>0</td>\n",
              "      <td>1</td>\n",
              "      <td>6</td>\n",
              "      <td>10</td>\n",
              "      <td>1.06</td>\n",
              "      <td>134.200000</td>\n",
              "      <td>0.01</td>\n",
              "      <td>0</td>\n",
              "    </tr>\n",
              "    <tr>\n",
              "      <th>1</th>\n",
              "      <td>2000235</td>\n",
              "      <td>29941</td>\n",
              "      <td>32</td>\n",
              "      <td>0</td>\n",
              "      <td>1</td>\n",
              "      <td>12</td>\n",
              "      <td>7</td>\n",
              "      <td>1.54</td>\n",
              "      <td>177.600000</td>\n",
              "      <td>0.07</td>\n",
              "      <td>1</td>\n",
              "    </tr>\n",
              "    <tr>\n",
              "      <th>2</th>\n",
              "      <td>2000297</td>\n",
              "      <td>57328</td>\n",
              "      <td>29</td>\n",
              "      <td>0</td>\n",
              "      <td>1</td>\n",
              "      <td>6</td>\n",
              "      <td>5</td>\n",
              "      <td>2.15</td>\n",
              "      <td>205.000000</td>\n",
              "      <td>0.28</td>\n",
              "      <td>0</td>\n",
              "    </tr>\n",
              "    <tr>\n",
              "      <th>3</th>\n",
              "      <td>2000435</td>\n",
              "      <td>29941</td>\n",
              "      <td>76</td>\n",
              "      <td>1</td>\n",
              "      <td>0</td>\n",
              "      <td>6</td>\n",
              "      <td>5</td>\n",
              "      <td>3.10</td>\n",
              "      <td>220.666667</td>\n",
              "      <td>0.39</td>\n",
              "      <td>1</td>\n",
              "    </tr>\n",
              "    <tr>\n",
              "      <th>4</th>\n",
              "      <td>2000774</td>\n",
              "      <td>29941</td>\n",
              "      <td>24</td>\n",
              "      <td>1</td>\n",
              "      <td>0</td>\n",
              "      <td>1</td>\n",
              "      <td>3</td>\n",
              "      <td>1.00</td>\n",
              "      <td>142.040000</td>\n",
              "      <td>0.12</td>\n",
              "      <td>1</td>\n",
              "    </tr>\n",
              "    <tr>\n",
              "      <th>...</th>\n",
              "      <td>...</td>\n",
              "      <td>...</td>\n",
              "      <td>...</td>\n",
              "      <td>...</td>\n",
              "      <td>...</td>\n",
              "      <td>...</td>\n",
              "      <td>...</td>\n",
              "      <td>...</td>\n",
              "      <td>...</td>\n",
              "      <td>...</td>\n",
              "      <td>...</td>\n",
              "    </tr>\n",
              "    <tr>\n",
              "      <th>8095</th>\n",
              "      <td>2999305</td>\n",
              "      <td>57328</td>\n",
              "      <td>46</td>\n",
              "      <td>1</td>\n",
              "      <td>0</td>\n",
              "      <td>1</td>\n",
              "      <td>6</td>\n",
              "      <td>2.05</td>\n",
              "      <td>188.460000</td>\n",
              "      <td>0.07</td>\n",
              "      <td>1</td>\n",
              "    </tr>\n",
              "    <tr>\n",
              "      <th>8096</th>\n",
              "      <td>2999322</td>\n",
              "      <td>29941</td>\n",
              "      <td>22</td>\n",
              "      <td>0</td>\n",
              "      <td>1</td>\n",
              "      <td>12</td>\n",
              "      <td>2</td>\n",
              "      <td>1.59</td>\n",
              "      <td>226.333333</td>\n",
              "      <td>0.12</td>\n",
              "      <td>1</td>\n",
              "    </tr>\n",
              "    <tr>\n",
              "      <th>8097</th>\n",
              "      <td>2999324</td>\n",
              "      <td>29941</td>\n",
              "      <td>22</td>\n",
              "      <td>0</td>\n",
              "      <td>1</td>\n",
              "      <td>1</td>\n",
              "      <td>8</td>\n",
              "      <td>2.53</td>\n",
              "      <td>211.333333</td>\n",
              "      <td>0.00</td>\n",
              "      <td>1</td>\n",
              "    </tr>\n",
              "    <tr>\n",
              "      <th>8098</th>\n",
              "      <td>2999660</td>\n",
              "      <td>29941</td>\n",
              "      <td>33</td>\n",
              "      <td>1</td>\n",
              "      <td>0</td>\n",
              "      <td>12</td>\n",
              "      <td>3</td>\n",
              "      <td>2.56</td>\n",
              "      <td>113.730000</td>\n",
              "      <td>0.00</td>\n",
              "      <td>1</td>\n",
              "    </tr>\n",
              "    <tr>\n",
              "      <th>8099</th>\n",
              "      <td>2999894</td>\n",
              "      <td>29941</td>\n",
              "      <td>29</td>\n",
              "      <td>1</td>\n",
              "      <td>1</td>\n",
              "      <td>12</td>\n",
              "      <td>8</td>\n",
              "      <td>0.80</td>\n",
              "      <td>219.666667</td>\n",
              "      <td>0.02</td>\n",
              "      <td>1</td>\n",
              "    </tr>\n",
              "  </tbody>\n",
              "</table>\n",
              "<p>8100 rows × 11 columns</p>\n",
              "</div>"
            ],
            "text/plain": [
              "      Registration  Zipcode  ...  Cancellation_freq  Exited\n",
              "0          2000159    57328  ...               0.01       0\n",
              "1          2000235    29941  ...               0.07       1\n",
              "2          2000297    57328  ...               0.28       0\n",
              "3          2000435    29941  ...               0.39       1\n",
              "4          2000774    29941  ...               0.12       1\n",
              "...            ...      ...  ...                ...     ...\n",
              "8095       2999305    57328  ...               0.07       1\n",
              "8096       2999322    29941  ...               0.12       1\n",
              "8097       2999324    29941  ...               0.00       1\n",
              "8098       2999660    29941  ...               0.00       1\n",
              "8099       2999894    29941  ...               0.02       1\n",
              "\n",
              "[8100 rows x 11 columns]"
            ]
          },
          "metadata": {
            "tags": []
          },
          "execution_count": 116
        }
      ]
    },
    {
      "cell_type": "code",
      "metadata": {
        "id": "jn_gW5A3RMFs"
      },
      "source": [
        "df.to_csv('gym_test.csv')"
      ],
      "execution_count": 122,
      "outputs": []
    },
    {
      "cell_type": "code",
      "metadata": {
        "id": "z-V7MGKRR7SW"
      },
      "source": [
        ""
      ],
      "execution_count": null,
      "outputs": []
    }
  ]
}